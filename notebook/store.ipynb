{
 "cells": [
  {
   "cell_type": "code",
   "execution_count": 1,
   "metadata": {},
   "outputs": [
    {
     "name": "stderr",
     "output_type": "stream",
     "text": [
      "[nltk_data] Downloading package stopwords to\n",
      "[nltk_data]     /Users/amantebeje/nltk_data...\n",
      "[nltk_data]   Package stopwords is already up-to-date!\n"
     ]
    }
   ],
   "source": [
    "import pandas as pd\n",
    "import os, sys\n",
    "notebook_dir= os.getcwd()\n",
    "sys.path.append(os.path.join(notebook_dir, '..', 'scripts'))\n",
    "from extract import get_data\n",
    "from clean import clean_text\n",
    "from store import database\n",
    "from logger import SetupLogger\n",
    "logger = SetupLogger(log_file='../logs/notebooks.log').get_logger()"
   ]
  },
  {
   "cell_type": "code",
   "execution_count": 2,
   "metadata": {},
   "outputs": [],
   "source": [
    "pdf_folder = \"../Data/raw/\"\n",
    "output_csv = \"../Data/preprocessed/extracted_text.csv\"\n",
    "output=\"../Data/preprocessed/cleaned_text.csv\"\n",
    "env='../env'"
   ]
  },
  {
   "cell_type": "code",
   "execution_count": 3,
   "metadata": {},
   "outputs": [
    {
     "name": "stderr",
     "output_type": "stream",
     "text": [
      "100%|██████████| 3/3 [00:00<00:00, 30.11it/s]\n"
     ]
    }
   ],
   "source": [
    "get=get_data(pdf_folder,output_csv,logger)\n",
    "get.load()"
   ]
  },
  {
   "cell_type": "code",
   "execution_count": 4,
   "metadata": {},
   "outputs": [
    {
     "name": "stdout",
     "output_type": "stream",
     "text": [
      "✅ Cleaned text saved!\n"
     ]
    }
   ],
   "source": [
    "extracted = pd.read_csv(\"../Data/preprocessed/extracted_text.csv\")\n",
    "clean=clean_text(extracted,output,logger)\n",
    "clean.clean_text()"
   ]
  },
  {
   "cell_type": "code",
   "execution_count": 5,
   "metadata": {},
   "outputs": [
    {
     "name": "stdout",
     "output_type": "stream",
     "text": [
      "✅ Data stored in PostgreSQL\n"
     ]
    }
   ],
   "source": [
    "cleaned = pd.read_csv(\"../Data/preprocessed/cleaned_text.csv\")\n",
    "store=database(cleaned,env,logger)\n",
    "store.connect_store()"
   ]
  }
 ],
 "metadata": {
  "kernelspec": {
   "display_name": "Python 3",
   "language": "python",
   "name": "python3"
  },
  "language_info": {
   "codemirror_mode": {
    "name": "ipython",
    "version": 3
   },
   "file_extension": ".py",
   "mimetype": "text/x-python",
   "name": "python",
   "nbconvert_exporter": "python",
   "pygments_lexer": "ipython3",
   "version": "3.12.8"
  }
 },
 "nbformat": 4,
 "nbformat_minor": 2
}
